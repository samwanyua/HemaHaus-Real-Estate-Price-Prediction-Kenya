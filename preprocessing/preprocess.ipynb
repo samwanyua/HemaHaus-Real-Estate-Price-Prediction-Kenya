{
 "cells": [
  {
   "cell_type": "code",
   "execution_count": 1,
   "id": "5f340ca5",
   "metadata": {},
   "outputs": [],
   "source": [
    "import pandas as pd"
   ]
  },
  {
   "cell_type": "code",
   "execution_count": 11,
   "id": "6b45316b",
   "metadata": {},
   "outputs": [
    {
     "data": {
      "text/html": [
       "<div>\n",
       "<style scoped>\n",
       "    .dataframe tbody tr th:only-of-type {\n",
       "        vertical-align: middle;\n",
       "    }\n",
       "\n",
       "    .dataframe tbody tr th {\n",
       "        vertical-align: top;\n",
       "    }\n",
       "\n",
       "    .dataframe thead th {\n",
       "        text-align: right;\n",
       "    }\n",
       "</style>\n",
       "<table border=\"1\" class=\"dataframe\">\n",
       "  <thead>\n",
       "    <tr style=\"text-align: right;\">\n",
       "      <th></th>\n",
       "      <th>id</th>\n",
       "      <th>title</th>\n",
       "      <th>price</th>\n",
       "      <th>location</th>\n",
       "      <th>address</th>\n",
       "      <th>description</th>\n",
       "      <th>bedrooms</th>\n",
       "      <th>bathrooms</th>\n",
       "      <th>parking</th>\n",
       "      <th>size</th>\n",
       "      <th>source</th>\n",
       "      <th>page</th>\n",
       "      <th>url</th>\n",
       "      <th>inserted_at</th>\n",
       "    </tr>\n",
       "  </thead>\n",
       "  <tbody>\n",
       "    <tr>\n",
       "      <th>0</th>\n",
       "      <td>1</td>\n",
       "      <td>2 Bedroom Apartment / Flat</td>\n",
       "      <td>KSh 15 140 000</td>\n",
       "      <td>Westlands</td>\n",
       "      <td>Westlands, Westlands, Nairobi</td>\n",
       "      <td>1 bedroom (58 sqm) from Kes. 9.12m – 9.47M\\r\\n...</td>\n",
       "      <td>2.0</td>\n",
       "      <td>2.0</td>\n",
       "      <td>2.0</td>\n",
       "      <td>94 m²</td>\n",
       "      <td>property24</td>\n",
       "      <td>1</td>\n",
       "      <td>https://www.property24.co.ke/property-for-sale...</td>\n",
       "      <td>2025-07-30 23:33:22.904488</td>\n",
       "    </tr>\n",
       "    <tr>\n",
       "      <th>1</th>\n",
       "      <td>2</td>\n",
       "      <td>4 Bedroom Apartment / Flat</td>\n",
       "      <td>KSh 23 500 000</td>\n",
       "      <td>Parklands</td>\n",
       "      <td>Parklands, Parklands, Nairobi</td>\n",
       "      <td>Price: KSH 23.5M\\r\\n\\r\\nStep into luxury with ...</td>\n",
       "      <td>4.0</td>\n",
       "      <td>4.0</td>\n",
       "      <td>2.0</td>\n",
       "      <td>112 m²</td>\n",
       "      <td>property24</td>\n",
       "      <td>1</td>\n",
       "      <td>https://www.property24.co.ke/property-for-sale...</td>\n",
       "      <td>2025-07-30 23:33:22.904488</td>\n",
       "    </tr>\n",
       "    <tr>\n",
       "      <th>2</th>\n",
       "      <td>3</td>\n",
       "      <td>2 Bedroom Apartment / Flat</td>\n",
       "      <td>KSh 12 600 000</td>\n",
       "      <td>Westlands</td>\n",
       "      <td>Westlands, Westlands, Nairobi</td>\n",
       "      <td>Discover a stunning 24-floor residential maste...</td>\n",
       "      <td>2.0</td>\n",
       "      <td>2.0</td>\n",
       "      <td>2.0</td>\n",
       "      <td>94 m²</td>\n",
       "      <td>property24</td>\n",
       "      <td>1</td>\n",
       "      <td>https://www.property24.co.ke/property-for-sale...</td>\n",
       "      <td>2025-07-30 23:33:22.904488</td>\n",
       "    </tr>\n",
       "    <tr>\n",
       "      <th>3</th>\n",
       "      <td>4</td>\n",
       "      <td>4 Bedroom Apartment / Flat</td>\n",
       "      <td>KSh 57 300 000</td>\n",
       "      <td>Westlands</td>\n",
       "      <td>Westlands, Westlands, Nairobi</td>\n",
       "      <td>Elegant &amp; Spacious 2, 3 &amp; 4 Bedroom Apartments...</td>\n",
       "      <td>4.0</td>\n",
       "      <td>5.0</td>\n",
       "      <td>3.0</td>\n",
       "      <td>3400 m²</td>\n",
       "      <td>property24</td>\n",
       "      <td>1</td>\n",
       "      <td>https://www.property24.co.ke/property-for-sale...</td>\n",
       "      <td>2025-07-30 23:33:22.904488</td>\n",
       "    </tr>\n",
       "    <tr>\n",
       "      <th>4</th>\n",
       "      <td>5</td>\n",
       "      <td>1 Bedroom Apartment / Flat</td>\n",
       "      <td>KSh 7 500 000</td>\n",
       "      <td>Westlands</td>\n",
       "      <td>Westlands, Westlands, Nairobi</td>\n",
       "      <td>Call or WhatsApp: +254 787 855 213\\r\\n?? Westl...</td>\n",
       "      <td>1.0</td>\n",
       "      <td>1.0</td>\n",
       "      <td>1.0</td>\n",
       "      <td>55 m²</td>\n",
       "      <td>property24</td>\n",
       "      <td>1</td>\n",
       "      <td>https://www.property24.co.ke/property-for-sale...</td>\n",
       "      <td>2025-07-30 23:33:22.904488</td>\n",
       "    </tr>\n",
       "  </tbody>\n",
       "</table>\n",
       "</div>"
      ],
      "text/plain": [
       "   id                       title           price   location  \\\n",
       "0   1  2 Bedroom Apartment / Flat  KSh 15 140 000  Westlands   \n",
       "1   2  4 Bedroom Apartment / Flat  KSh 23 500 000  Parklands   \n",
       "2   3  2 Bedroom Apartment / Flat  KSh 12 600 000  Westlands   \n",
       "3   4  4 Bedroom Apartment / Flat  KSh 57 300 000  Westlands   \n",
       "4   5  1 Bedroom Apartment / Flat   KSh 7 500 000  Westlands   \n",
       "\n",
       "                         address  \\\n",
       "0  Westlands, Westlands, Nairobi   \n",
       "1  Parklands, Parklands, Nairobi   \n",
       "2  Westlands, Westlands, Nairobi   \n",
       "3  Westlands, Westlands, Nairobi   \n",
       "4  Westlands, Westlands, Nairobi   \n",
       "\n",
       "                                         description  bedrooms  bathrooms  \\\n",
       "0  1 bedroom (58 sqm) from Kes. 9.12m – 9.47M\\r\\n...       2.0        2.0   \n",
       "1  Price: KSH 23.5M\\r\\n\\r\\nStep into luxury with ...       4.0        4.0   \n",
       "2  Discover a stunning 24-floor residential maste...       2.0        2.0   \n",
       "3  Elegant & Spacious 2, 3 & 4 Bedroom Apartments...       4.0        5.0   \n",
       "4  Call or WhatsApp: +254 787 855 213\\r\\n?? Westl...       1.0        1.0   \n",
       "\n",
       "   parking     size      source  page  \\\n",
       "0      2.0    94 m²  property24     1   \n",
       "1      2.0   112 m²  property24     1   \n",
       "2      2.0    94 m²  property24     1   \n",
       "3      3.0  3400 m²  property24     1   \n",
       "4      1.0    55 m²  property24     1   \n",
       "\n",
       "                                                 url  \\\n",
       "0  https://www.property24.co.ke/property-for-sale...   \n",
       "1  https://www.property24.co.ke/property-for-sale...   \n",
       "2  https://www.property24.co.ke/property-for-sale...   \n",
       "3  https://www.property24.co.ke/property-for-sale...   \n",
       "4  https://www.property24.co.ke/property-for-sale...   \n",
       "\n",
       "                  inserted_at  \n",
       "0  2025-07-30 23:33:22.904488  \n",
       "1  2025-07-30 23:33:22.904488  \n",
       "2  2025-07-30 23:33:22.904488  \n",
       "3  2025-07-30 23:33:22.904488  \n",
       "4  2025-07-30 23:33:22.904488  "
      ]
     },
     "execution_count": 11,
     "metadata": {},
     "output_type": "execute_result"
    }
   ],
   "source": [
    "data = pd.read_csv(\"../data/raw/raw_listings.csv\")\n",
    "data.head(5)"
   ]
  },
  {
   "cell_type": "code",
   "execution_count": 3,
   "id": "c9d84856",
   "metadata": {},
   "outputs": [
    {
     "data": {
      "text/plain": [
       "(194449, 14)"
      ]
     },
     "execution_count": 3,
     "metadata": {},
     "output_type": "execute_result"
    }
   ],
   "source": [
    "data.shape"
   ]
  },
  {
   "cell_type": "code",
   "execution_count": 6,
   "id": "7a4c765a",
   "metadata": {},
   "outputs": [
    {
     "data": {
      "text/html": [
       "<div>\n",
       "<style scoped>\n",
       "    .dataframe tbody tr th:only-of-type {\n",
       "        vertical-align: middle;\n",
       "    }\n",
       "\n",
       "    .dataframe tbody tr th {\n",
       "        vertical-align: top;\n",
       "    }\n",
       "\n",
       "    .dataframe thead th {\n",
       "        text-align: right;\n",
       "    }\n",
       "</style>\n",
       "<table border=\"1\" class=\"dataframe\">\n",
       "  <thead>\n",
       "    <tr style=\"text-align: right;\">\n",
       "      <th></th>\n",
       "      <th>id</th>\n",
       "      <th>bedrooms</th>\n",
       "      <th>bathrooms</th>\n",
       "      <th>parking</th>\n",
       "      <th>page</th>\n",
       "    </tr>\n",
       "  </thead>\n",
       "  <tbody>\n",
       "    <tr>\n",
       "      <th>count</th>\n",
       "      <td>194449.000000</td>\n",
       "      <td>159955.000000</td>\n",
       "      <td>156289.000000</td>\n",
       "      <td>119815.000000</td>\n",
       "      <td>194449.000000</td>\n",
       "    </tr>\n",
       "    <tr>\n",
       "      <th>mean</th>\n",
       "      <td>97225.000000</td>\n",
       "      <td>2.905610</td>\n",
       "      <td>3.075147</td>\n",
       "      <td>2.113579</td>\n",
       "      <td>3048.147823</td>\n",
       "    </tr>\n",
       "    <tr>\n",
       "      <th>std</th>\n",
       "      <td>56132.735584</td>\n",
       "      <td>1.791229</td>\n",
       "      <td>1.738846</td>\n",
       "      <td>2.675619</td>\n",
       "      <td>2421.585475</td>\n",
       "    </tr>\n",
       "    <tr>\n",
       "      <th>min</th>\n",
       "      <td>1.000000</td>\n",
       "      <td>0.500000</td>\n",
       "      <td>0.500000</td>\n",
       "      <td>0.250000</td>\n",
       "      <td>1.000000</td>\n",
       "    </tr>\n",
       "    <tr>\n",
       "      <th>25%</th>\n",
       "      <td>48613.000000</td>\n",
       "      <td>2.000000</td>\n",
       "      <td>2.000000</td>\n",
       "      <td>1.000000</td>\n",
       "      <td>550.000000</td>\n",
       "    </tr>\n",
       "    <tr>\n",
       "      <th>50%</th>\n",
       "      <td>97225.000000</td>\n",
       "      <td>3.000000</td>\n",
       "      <td>3.000000</td>\n",
       "      <td>2.000000</td>\n",
       "      <td>2865.000000</td>\n",
       "    </tr>\n",
       "    <tr>\n",
       "      <th>75%</th>\n",
       "      <td>145837.000000</td>\n",
       "      <td>4.000000</td>\n",
       "      <td>4.000000</td>\n",
       "      <td>2.000000</td>\n",
       "      <td>5179.000000</td>\n",
       "    </tr>\n",
       "    <tr>\n",
       "      <th>max</th>\n",
       "      <td>194449.000000</td>\n",
       "      <td>234.000000</td>\n",
       "      <td>191.000000</td>\n",
       "      <td>230.000000</td>\n",
       "      <td>7494.000000</td>\n",
       "    </tr>\n",
       "  </tbody>\n",
       "</table>\n",
       "</div>"
      ],
      "text/plain": [
       "                  id       bedrooms      bathrooms        parking  \\\n",
       "count  194449.000000  159955.000000  156289.000000  119815.000000   \n",
       "mean    97225.000000       2.905610       3.075147       2.113579   \n",
       "std     56132.735584       1.791229       1.738846       2.675619   \n",
       "min         1.000000       0.500000       0.500000       0.250000   \n",
       "25%     48613.000000       2.000000       2.000000       1.000000   \n",
       "50%     97225.000000       3.000000       3.000000       2.000000   \n",
       "75%    145837.000000       4.000000       4.000000       2.000000   \n",
       "max    194449.000000     234.000000     191.000000     230.000000   \n",
       "\n",
       "                page  \n",
       "count  194449.000000  \n",
       "mean     3048.147823  \n",
       "std      2421.585475  \n",
       "min         1.000000  \n",
       "25%       550.000000  \n",
       "50%      2865.000000  \n",
       "75%      5179.000000  \n",
       "max      7494.000000  "
      ]
     },
     "execution_count": 6,
     "metadata": {},
     "output_type": "execute_result"
    }
   ],
   "source": [
    "data.describe()"
   ]
  },
  {
   "cell_type": "code",
   "execution_count": 7,
   "id": "1603414b",
   "metadata": {},
   "outputs": [
    {
     "data": {
      "text/plain": [
       "id                  0\n",
       "title               0\n",
       "price               0\n",
       "location            0\n",
       "address         12175\n",
       "description         0\n",
       "bedrooms        34494\n",
       "bathrooms       38160\n",
       "parking         74634\n",
       "size           106619\n",
       "source              0\n",
       "page                0\n",
       "url                 0\n",
       "inserted_at         0\n",
       "dtype: int64"
      ]
     },
     "execution_count": 7,
     "metadata": {},
     "output_type": "execute_result"
    }
   ],
   "source": [
    "data.isnull().sum()"
   ]
  },
  {
   "cell_type": "code",
   "execution_count": 8,
   "id": "38c6bc66",
   "metadata": {},
   "outputs": [
    {
     "data": {
      "text/plain": [
       "Index(['id', 'title', 'price', 'location', 'address', 'description',\n",
       "       'bedrooms', 'bathrooms', 'parking', 'size', 'source', 'page', 'url',\n",
       "       'inserted_at'],\n",
       "      dtype='object')"
      ]
     },
     "execution_count": 8,
     "metadata": {},
     "output_type": "execute_result"
    }
   ],
   "source": [
    "data.columns"
   ]
  },
  {
   "cell_type": "code",
   "execution_count": 12,
   "id": "5bcceaf7",
   "metadata": {},
   "outputs": [
    {
     "data": {
      "text/plain": [
       "(168143, 14)"
      ]
     },
     "execution_count": 12,
     "metadata": {},
     "output_type": "execute_result"
    }
   ],
   "source": [
    "# filter out land listings\n",
    "land_keywords = [\"land\", \"plot\", \"vacant\", \"erf\"]\n",
    "clean_data = data[~data['title'].str.lower().str.contains('|'.join(land_keywords))]\n",
    "clean_data.shape"
   ]
  },
  {
   "cell_type": "code",
   "execution_count": 13,
   "id": "914f8dee",
   "metadata": {},
   "outputs": [
    {
     "data": {
      "text/plain": [
       "id                 0\n",
       "title              0\n",
       "price              0\n",
       "location           0\n",
       "address         9669\n",
       "description        0\n",
       "bedrooms        8188\n",
       "bathrooms      11854\n",
       "parking        48328\n",
       "size           96992\n",
       "source             0\n",
       "page               0\n",
       "url                0\n",
       "inserted_at        0\n",
       "dtype: int64"
      ]
     },
     "execution_count": 13,
     "metadata": {},
     "output_type": "execute_result"
    }
   ],
   "source": [
    "clean_data.isnull().sum()"
   ]
  },
  {
   "cell_type": "code",
   "execution_count": 14,
   "id": "a5615e77",
   "metadata": {},
   "outputs": [
    {
     "data": {
      "text/plain": [
       "(140158, 14)"
      ]
     },
     "execution_count": 14,
     "metadata": {},
     "output_type": "execute_result"
    }
   ],
   "source": [
    "# Drop duplicates based on title + location + price + url\n",
    "clean_data = clean_data.drop_duplicates(subset=[\"title\", \"location\", \"price\", \"url\"])\n",
    "clean_data.shape"
   ]
  },
  {
   "cell_type": "code",
   "execution_count": 15,
   "id": "dd9c5981",
   "metadata": {},
   "outputs": [
    {
     "data": {
      "text/plain": [
       "id                 0\n",
       "title              0\n",
       "price              0\n",
       "location           0\n",
       "address         8746\n",
       "description        0\n",
       "bedrooms        5159\n",
       "bathrooms       8515\n",
       "parking        39005\n",
       "size           81997\n",
       "source             0\n",
       "page               0\n",
       "url                0\n",
       "inserted_at        0\n",
       "dtype: int64"
      ]
     },
     "execution_count": 15,
     "metadata": {},
     "output_type": "execute_result"
    }
   ],
   "source": [
    "clean_data.isnull().sum()"
   ]
  },
  {
   "cell_type": "code",
   "execution_count": 24,
   "id": "0ffcf060",
   "metadata": {},
   "outputs": [
    {
     "data": {
      "text/plain": [
       "(134999, 14)"
      ]
     },
     "execution_count": 24,
     "metadata": {},
     "output_type": "execute_result"
    }
   ],
   "source": [
    "# drop listings with no bedroom & bathroom\n",
    "clean_data = clean_data.dropna(subset=[\"bedrooms\", \"bathrooms\"], how=\"all\")\n",
    "clean_data.shape\n"
   ]
  },
  {
   "cell_type": "code",
   "execution_count": 21,
   "id": "4b768748",
   "metadata": {},
   "outputs": [],
   "source": [
    "# fill missing parking with \"Not specified\"\n",
    "clean_data[\"parking\"] = clean_data[\"parking\"].fillna(\"Not specified\")"
   ]
  },
  {
   "cell_type": "code",
   "execution_count": 22,
   "id": "39151f94",
   "metadata": {},
   "outputs": [],
   "source": [
    "# fill address with location where missing\n",
    "clean_data[\"address\"] = clean_data[\"address\"].fillna(clean_data[\"location\"])"
   ]
  },
  {
   "cell_type": "code",
   "execution_count": 25,
   "id": "42928d8f",
   "metadata": {},
   "outputs": [
    {
     "data": {
      "text/plain": [
       "id                 0\n",
       "title              0\n",
       "price              0\n",
       "location           0\n",
       "address            0\n",
       "description        0\n",
       "bedrooms           0\n",
       "bathrooms       3356\n",
       "parking            0\n",
       "size           78727\n",
       "source             0\n",
       "page               0\n",
       "url                0\n",
       "inserted_at        0\n",
       "dtype: int64"
      ]
     },
     "execution_count": 25,
     "metadata": {},
     "output_type": "execute_result"
    }
   ],
   "source": [
    "clean_data.isnull().sum()"
   ]
  },
  {
   "cell_type": "code",
   "execution_count": 30,
   "id": "725c5f3f",
   "metadata": {},
   "outputs": [
    {
     "data": {
      "text/plain": [
       "Index(['id', 'title', 'price', 'location', 'address', 'description',\n",
       "       'bedrooms', 'bathrooms', 'parking', 'size', 'source', 'page', 'url',\n",
       "       'inserted_at', 'has_size', 'property_type'],\n",
       "      dtype='object')"
      ]
     },
     "execution_count": 30,
     "metadata": {},
     "output_type": "execute_result"
    }
   ],
   "source": [
    "clean_data.columns"
   ]
  },
  {
   "cell_type": "code",
   "execution_count": 48,
   "id": "3601738f",
   "metadata": {},
   "outputs": [
    {
     "data": {
      "text/plain": [
       "id                      int64\n",
       "title                  object\n",
       "price                 float64\n",
       "location               object\n",
       "address                object\n",
       "description            object\n",
       "bedrooms              float64\n",
       "bathrooms             float64\n",
       "parking                object\n",
       "size_sqm              float64\n",
       "source                 object\n",
       "page                    int64\n",
       "url                    object\n",
       "inserted_at            object\n",
       "has_size                int64\n",
       "property_type          object\n",
       "price_numeric         float64\n",
       "price_per_sqm         float64\n",
       "estimated_size_sqm    float64\n",
       "dtype: object"
      ]
     },
     "execution_count": 48,
     "metadata": {},
     "output_type": "execute_result"
    }
   ],
   "source": [
    "clean_data.dtypes"
   ]
  },
  {
   "cell_type": "code",
   "execution_count": 47,
   "id": "c4fe1df6",
   "metadata": {},
   "outputs": [
    {
     "data": {
      "text/html": [
       "<div>\n",
       "<style scoped>\n",
       "    .dataframe tbody tr th:only-of-type {\n",
       "        vertical-align: middle;\n",
       "    }\n",
       "\n",
       "    .dataframe tbody tr th {\n",
       "        vertical-align: top;\n",
       "    }\n",
       "\n",
       "    .dataframe thead th {\n",
       "        text-align: right;\n",
       "    }\n",
       "</style>\n",
       "<table border=\"1\" class=\"dataframe\">\n",
       "  <thead>\n",
       "    <tr style=\"text-align: right;\">\n",
       "      <th></th>\n",
       "      <th>id</th>\n",
       "      <th>title</th>\n",
       "      <th>price</th>\n",
       "      <th>location</th>\n",
       "      <th>address</th>\n",
       "      <th>description</th>\n",
       "      <th>bedrooms</th>\n",
       "      <th>bathrooms</th>\n",
       "      <th>parking</th>\n",
       "      <th>size_sqm</th>\n",
       "      <th>source</th>\n",
       "      <th>page</th>\n",
       "      <th>url</th>\n",
       "      <th>inserted_at</th>\n",
       "      <th>has_size</th>\n",
       "      <th>property_type</th>\n",
       "      <th>price_numeric</th>\n",
       "      <th>price_per_sqm</th>\n",
       "      <th>estimated_size_sqm</th>\n",
       "    </tr>\n",
       "  </thead>\n",
       "  <tbody>\n",
       "    <tr>\n",
       "      <th>0</th>\n",
       "      <td>1</td>\n",
       "      <td>2 Bedroom Apartment / Flat</td>\n",
       "      <td>15140000.0</td>\n",
       "      <td>Westlands</td>\n",
       "      <td>Westlands, Westlands, Nairobi</td>\n",
       "      <td>1 bedroom (58 sqm) from Kes. 9.12m – 9.47M\\r\\n...</td>\n",
       "      <td>2.0</td>\n",
       "      <td>2.0</td>\n",
       "      <td>2.0</td>\n",
       "      <td>94.0</td>\n",
       "      <td>property24</td>\n",
       "      <td>1</td>\n",
       "      <td>https://www.property24.co.ke/property-for-sale...</td>\n",
       "      <td>2025-07-30 23:33:22.904488</td>\n",
       "      <td>1</td>\n",
       "      <td>house</td>\n",
       "      <td>15140000.0</td>\n",
       "      <td>161063.829787</td>\n",
       "      <td>94.0</td>\n",
       "    </tr>\n",
       "    <tr>\n",
       "      <th>1</th>\n",
       "      <td>2</td>\n",
       "      <td>4 Bedroom Apartment / Flat</td>\n",
       "      <td>23500000.0</td>\n",
       "      <td>Parklands</td>\n",
       "      <td>Parklands, Parklands, Nairobi</td>\n",
       "      <td>Price: KSH 23.5M\\r\\n\\r\\nStep into luxury with ...</td>\n",
       "      <td>4.0</td>\n",
       "      <td>4.0</td>\n",
       "      <td>2.0</td>\n",
       "      <td>112.0</td>\n",
       "      <td>property24</td>\n",
       "      <td>1</td>\n",
       "      <td>https://www.property24.co.ke/property-for-sale...</td>\n",
       "      <td>2025-07-30 23:33:22.904488</td>\n",
       "      <td>1</td>\n",
       "      <td>house</td>\n",
       "      <td>23500000.0</td>\n",
       "      <td>209821.428571</td>\n",
       "      <td>112.0</td>\n",
       "    </tr>\n",
       "    <tr>\n",
       "      <th>2</th>\n",
       "      <td>3</td>\n",
       "      <td>2 Bedroom Apartment / Flat</td>\n",
       "      <td>12600000.0</td>\n",
       "      <td>Westlands</td>\n",
       "      <td>Westlands, Westlands, Nairobi</td>\n",
       "      <td>Discover a stunning 24-floor residential maste...</td>\n",
       "      <td>2.0</td>\n",
       "      <td>2.0</td>\n",
       "      <td>2.0</td>\n",
       "      <td>94.0</td>\n",
       "      <td>property24</td>\n",
       "      <td>1</td>\n",
       "      <td>https://www.property24.co.ke/property-for-sale...</td>\n",
       "      <td>2025-07-30 23:33:22.904488</td>\n",
       "      <td>1</td>\n",
       "      <td>house</td>\n",
       "      <td>12600000.0</td>\n",
       "      <td>134042.553191</td>\n",
       "      <td>94.0</td>\n",
       "    </tr>\n",
       "    <tr>\n",
       "      <th>3</th>\n",
       "      <td>4</td>\n",
       "      <td>4 Bedroom Apartment / Flat</td>\n",
       "      <td>57300000.0</td>\n",
       "      <td>Westlands</td>\n",
       "      <td>Westlands, Westlands, Nairobi</td>\n",
       "      <td>Elegant &amp; Spacious 2, 3 &amp; 4 Bedroom Apartments...</td>\n",
       "      <td>4.0</td>\n",
       "      <td>5.0</td>\n",
       "      <td>3.0</td>\n",
       "      <td>3400.0</td>\n",
       "      <td>property24</td>\n",
       "      <td>1</td>\n",
       "      <td>https://www.property24.co.ke/property-for-sale...</td>\n",
       "      <td>2025-07-30 23:33:22.904488</td>\n",
       "      <td>1</td>\n",
       "      <td>house</td>\n",
       "      <td>57300000.0</td>\n",
       "      <td>16852.941176</td>\n",
       "      <td>3400.0</td>\n",
       "    </tr>\n",
       "    <tr>\n",
       "      <th>4</th>\n",
       "      <td>5</td>\n",
       "      <td>1 Bedroom Apartment / Flat</td>\n",
       "      <td>7500000.0</td>\n",
       "      <td>Westlands</td>\n",
       "      <td>Westlands, Westlands, Nairobi</td>\n",
       "      <td>Call or WhatsApp: +254 787 855 213\\r\\n?? Westl...</td>\n",
       "      <td>1.0</td>\n",
       "      <td>1.0</td>\n",
       "      <td>1.0</td>\n",
       "      <td>55.0</td>\n",
       "      <td>property24</td>\n",
       "      <td>1</td>\n",
       "      <td>https://www.property24.co.ke/property-for-sale...</td>\n",
       "      <td>2025-07-30 23:33:22.904488</td>\n",
       "      <td>1</td>\n",
       "      <td>house</td>\n",
       "      <td>7500000.0</td>\n",
       "      <td>136363.636364</td>\n",
       "      <td>55.0</td>\n",
       "    </tr>\n",
       "  </tbody>\n",
       "</table>\n",
       "</div>"
      ],
      "text/plain": [
       "   id                       title       price   location  \\\n",
       "0   1  2 Bedroom Apartment / Flat  15140000.0  Westlands   \n",
       "1   2  4 Bedroom Apartment / Flat  23500000.0  Parklands   \n",
       "2   3  2 Bedroom Apartment / Flat  12600000.0  Westlands   \n",
       "3   4  4 Bedroom Apartment / Flat  57300000.0  Westlands   \n",
       "4   5  1 Bedroom Apartment / Flat   7500000.0  Westlands   \n",
       "\n",
       "                         address  \\\n",
       "0  Westlands, Westlands, Nairobi   \n",
       "1  Parklands, Parklands, Nairobi   \n",
       "2  Westlands, Westlands, Nairobi   \n",
       "3  Westlands, Westlands, Nairobi   \n",
       "4  Westlands, Westlands, Nairobi   \n",
       "\n",
       "                                         description  bedrooms  bathrooms  \\\n",
       "0  1 bedroom (58 sqm) from Kes. 9.12m – 9.47M\\r\\n...       2.0        2.0   \n",
       "1  Price: KSH 23.5M\\r\\n\\r\\nStep into luxury with ...       4.0        4.0   \n",
       "2  Discover a stunning 24-floor residential maste...       2.0        2.0   \n",
       "3  Elegant & Spacious 2, 3 & 4 Bedroom Apartments...       4.0        5.0   \n",
       "4  Call or WhatsApp: +254 787 855 213\\r\\n?? Westl...       1.0        1.0   \n",
       "\n",
       "  parking  size_sqm      source  page  \\\n",
       "0     2.0      94.0  property24     1   \n",
       "1     2.0     112.0  property24     1   \n",
       "2     2.0      94.0  property24     1   \n",
       "3     3.0    3400.0  property24     1   \n",
       "4     1.0      55.0  property24     1   \n",
       "\n",
       "                                                 url  \\\n",
       "0  https://www.property24.co.ke/property-for-sale...   \n",
       "1  https://www.property24.co.ke/property-for-sale...   \n",
       "2  https://www.property24.co.ke/property-for-sale...   \n",
       "3  https://www.property24.co.ke/property-for-sale...   \n",
       "4  https://www.property24.co.ke/property-for-sale...   \n",
       "\n",
       "                  inserted_at  has_size property_type  price_numeric  \\\n",
       "0  2025-07-30 23:33:22.904488         1         house     15140000.0   \n",
       "1  2025-07-30 23:33:22.904488         1         house     23500000.0   \n",
       "2  2025-07-30 23:33:22.904488         1         house     12600000.0   \n",
       "3  2025-07-30 23:33:22.904488         1         house     57300000.0   \n",
       "4  2025-07-30 23:33:22.904488         1         house      7500000.0   \n",
       "\n",
       "   price_per_sqm  estimated_size_sqm  \n",
       "0  161063.829787                94.0  \n",
       "1  209821.428571               112.0  \n",
       "2  134042.553191                94.0  \n",
       "3   16852.941176              3400.0  \n",
       "4  136363.636364                55.0  "
      ]
     },
     "execution_count": 47,
     "metadata": {},
     "output_type": "execute_result"
    }
   ],
   "source": [
    "clean_data.head()"
   ]
  },
  {
   "cell_type": "code",
   "execution_count": 51,
   "id": "399f8f5f",
   "metadata": {},
   "outputs": [
    {
     "name": "stderr",
     "output_type": "stream",
     "text": [
      "/tmp/ipykernel_8647/2908439477.py:20: FutureWarning: A value is trying to be set on a copy of a DataFrame or Series through chained assignment using an inplace method.\n",
      "The behavior will change in pandas 3.0. This inplace method will never work because the intermediate object on which we are setting values always behaves as a copy.\n",
      "\n",
      "For example, when doing 'df[col].method(value, inplace=True)', try using 'df.method({col: value}, inplace=True)' or df[col] = df[col].method(value) instead, to perform the operation inplace on the original object.\n",
      "\n",
      "\n",
      "  clean_data[\"size_sqm\"].fillna(clean_data[\"estimated_size_sqm\"], inplace=True)\n",
      "/tmp/ipykernel_8647/2908439477.py:24: FutureWarning: A value is trying to be set on a copy of a DataFrame or Series through chained assignment using an inplace method.\n",
      "The behavior will change in pandas 3.0. This inplace method will never work because the intermediate object on which we are setting values always behaves as a copy.\n",
      "\n",
      "For example, when doing 'df[col].method(value, inplace=True)', try using 'df.method({col: value}, inplace=True)' or df[col] = df[col].method(value) instead, to perform the operation inplace on the original object.\n",
      "\n",
      "\n",
      "  clean_data[\"size_sqm\"].fillna(clean_data[\"price\"] / global_avg_ppsqm, inplace=True)\n"
     ]
    },
    {
     "data": {
      "text/plain": [
       "id                       0\n",
       "title                    0\n",
       "price                    0\n",
       "location                 0\n",
       "address                  0\n",
       "description              0\n",
       "bedrooms                 0\n",
       "bathrooms             3356\n",
       "parking                  0\n",
       "size_sqm                 0\n",
       "source                   0\n",
       "page                     0\n",
       "url                      0\n",
       "inserted_at              0\n",
       "has_size                 0\n",
       "property_type            0\n",
       "price_numeric            0\n",
       "price_per_sqm            0\n",
       "estimated_size_sqm     225\n",
       "dtype: int64"
      ]
     },
     "execution_count": 51,
     "metadata": {},
     "output_type": "execute_result"
    }
   ],
   "source": [
    "# Rename 'size' to 'size_sqm'\n",
    "clean_data.rename(columns={\"size\": \"size_sqm\"}, inplace=True)\n",
    "\n",
    "# Convert to string and extract numbers (e.g., from \"230 m²\" → 230)\n",
    "clean_data[\"size_sqm\"] = clean_data[\"size_sqm\"].astype(str).str.extract(r\"(\\d+\\.?\\d*)\")[0].astype(float)\n",
    "\n",
    "# Compute price per sqm for rows with known size\n",
    "clean_data[\"price_per_sqm\"] = clean_data[\"price\"] / clean_data[\"size_sqm\"]\n",
    "\n",
    "# Compute average price per sqm by location (ignoring NaNs)\n",
    "avg_ppsqm = clean_data.groupby(\"location\")[\"price_per_sqm\"].mean()\n",
    "\n",
    "# Fill missing size_sqm values using estimated size = price / avg_price_per_sqm\n",
    "clean_data[\"estimated_size_sqm\"] = clean_data.apply(\n",
    "    lambda row: row[\"price\"] / avg_ppsqm[row[\"location\"]] if pd.isnull(row[\"size_sqm\"]) and row[\"location\"] in avg_ppsqm else row[\"size_sqm\"],\n",
    "    axis=1\n",
    ")\n",
    "\n",
    "# Fill missing size_sqm with estimated values\n",
    "clean_data[\"size_sqm\"].fillna(clean_data[\"estimated_size_sqm\"], inplace=True)\n",
    "\n",
    "global_avg_ppsqm = clean_data[\"price_per_sqm\"].mean()\n",
    "\n",
    "clean_data[\"size_sqm\"].fillna(clean_data[\"price\"] / global_avg_ppsqm, inplace=True)\n",
    "\n",
    "clean_data[\"price_per_sqm\"] = clean_data[\"price\"] / clean_data[\"size_sqm\"]\n",
    "\n",
    "\n",
    "clean_data.isnull().sum()"
   ]
  },
  {
   "cell_type": "code",
   "execution_count": 52,
   "id": "ac0afecb",
   "metadata": {},
   "outputs": [
    {
     "name": "stderr",
     "output_type": "stream",
     "text": [
      "/tmp/ipykernel_8647/1371189992.py:11: FutureWarning: A value is trying to be set on a copy of a DataFrame or Series through chained assignment using an inplace method.\n",
      "The behavior will change in pandas 3.0. This inplace method will never work because the intermediate object on which we are setting values always behaves as a copy.\n",
      "\n",
      "For example, when doing 'df[col].method(value, inplace=True)', try using 'df.method({col: value}, inplace=True)' or df[col] = df[col].method(value) instead, to perform the operation inplace on the original object.\n",
      "\n",
      "\n",
      "  clean_data[\"bathrooms\"].fillna(clean_data[\"bathrooms\"].median(), inplace=True)\n"
     ]
    }
   ],
   "source": [
    "# Compute median bathrooms per location\n",
    "bathroom_medians = clean_data.groupby(\"location\")[\"bathrooms\"].median()\n",
    "\n",
    "# Fill missing bathrooms\n",
    "clean_data[\"bathrooms\"] = clean_data.apply(\n",
    "    lambda row: bathroom_medians[row[\"location\"]] if pd.isnull(row[\"bathrooms\"]) and row[\"location\"] in bathroom_medians else row[\"bathrooms\"],\n",
    "    axis=1\n",
    ")\n",
    "\n",
    "# If any still missing, fill with global median\n",
    "clean_data[\"bathrooms\"].fillna(clean_data[\"bathrooms\"].median(), inplace=True)\n"
   ]
  },
  {
   "cell_type": "code",
   "execution_count": 53,
   "id": "f0487f4c",
   "metadata": {},
   "outputs": [
    {
     "data": {
      "text/plain": [
       "id                      0\n",
       "title                   0\n",
       "price                   0\n",
       "location                0\n",
       "address                 0\n",
       "description             0\n",
       "bedrooms                0\n",
       "bathrooms               0\n",
       "parking                 0\n",
       "size_sqm                0\n",
       "source                  0\n",
       "page                    0\n",
       "url                     0\n",
       "inserted_at             0\n",
       "has_size                0\n",
       "property_type           0\n",
       "price_numeric           0\n",
       "price_per_sqm           0\n",
       "estimated_size_sqm    225\n",
       "dtype: int64"
      ]
     },
     "execution_count": 53,
     "metadata": {},
     "output_type": "execute_result"
    }
   ],
   "source": [
    "clean_data.isnull().sum()"
   ]
  },
  {
   "cell_type": "code",
   "execution_count": null,
   "id": "1c038612",
   "metadata": {},
   "outputs": [],
   "source": []
  }
 ],
 "metadata": {
  "kernelspec": {
   "display_name": "env",
   "language": "python",
   "name": "python3"
  },
  "language_info": {
   "codemirror_mode": {
    "name": "ipython",
    "version": 3
   },
   "file_extension": ".py",
   "mimetype": "text/x-python",
   "name": "python",
   "nbconvert_exporter": "python",
   "pygments_lexer": "ipython3",
   "version": "3.11.13"
  }
 },
 "nbformat": 4,
 "nbformat_minor": 5
}
